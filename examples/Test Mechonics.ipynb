{
 "cells": [
  {
   "cell_type": "code",
   "execution_count": 1,
   "metadata": {},
   "outputs": [],
   "source": [
    "import pyvisa\n",
    "rm = pyvisa.ResourceManager('@py')"
   ]
  },
  {
   "cell_type": "code",
   "execution_count": 2,
   "metadata": {},
   "outputs": [],
   "source": [
    "dev = rm.open_resource('ASRL/dev/ttyACM0', baud_rate=19200)\n",
    "dev.encoding = 'utf-8'"
   ]
  },
  {
   "cell_type": "code",
   "execution_count": 6,
   "metadata": {},
   "outputs": [
    {
     "name": "stdout",
     "output_type": "stream",
     "text": [
      "Waiting for input mot 1\r\n",
      "\n",
      "01111100\n",
      "124\n",
      "b'|'\n",
      "b'|'\n",
      "OK\r\n",
      "\n"
     ]
    }
   ],
   "source": [
    "speed = 60\n",
    "direction = 0\n",
    "binary_speed = '{0:06b}'.format(speed)\n",
    "binary_speed =  str(direction) + str(1) + binary_speed\n",
    "number = int(binary_speed, 2)\n",
    "bytestring = number.to_bytes(1, 'big')\n",
    "print(dev.query('mot1'))\n",
    "dev.write_raw(bytestring)\n",
    "print(binary_speed)\n",
    "print(number)\n",
    "print(bytestring)\n",
    "print(bytes([number]))\n",
    "print(dev.read())"
   ]
  },
  {
   "cell_type": "code",
   "execution_count": 231,
   "metadata": {},
   "outputs": [
    {
     "name": "stdout",
     "output_type": "stream",
     "text": [
      "0\t192\t00000011\tb'\\xc0'\n",
      "1\t193\t10000011\tb'\\xc1'\n",
      "2\t194\t01000011\tb'\\xc2'\n",
      "3\t195\t11000011\tb'\\xc3'\n",
      "4\t196\t00100011\tb'\\xc4'\n",
      "5\t197\t10100011\tb'\\xc5'\n",
      "6\t198\t01100011\tb'\\xc6'\n",
      "7\t199\t11100011\tb'\\xc7'\n",
      "8\t200\t00010011\tb'\\xc8'\n",
      "9\t201\t10010011\tb'\\xc9'\n",
      "10\t202\t01010011\tb'\\xca'\n",
      "11\t203\t11010011\tb'\\xcb'\n",
      "12\t204\t00110011\tb'\\xcc'\n",
      "13\t205\t10110011\tb'\\xcd'\n",
      "14\t206\t01110011\tb'\\xce'\n",
      "15\t207\t11110011\tb'\\xcf'\n",
      "16\t208\t00001011\tb'\\xd0'\n",
      "17\t209\t10001011\tb'\\xd1'\n",
      "18\t210\t01001011\tb'\\xd2'\n",
      "19\t211\t11001011\tb'\\xd3'\n",
      "20\t212\t00101011\tb'\\xd4'\n",
      "21\t213\t10101011\tb'\\xd5'\n",
      "22\t214\t01101011\tb'\\xd6'\n",
      "23\t215\t11101011\tb'\\xd7'\n",
      "24\t216\t00011011\tb'\\xd8'\n",
      "25\t217\t10011011\tb'\\xd9'\n",
      "26\t218\t01011011\tb'\\xda'\n",
      "27\t219\t11011011\tb'\\xdb'\n",
      "28\t220\t00111011\tb'\\xdc'\n",
      "29\t221\t10111011\tb'\\xdd'\n",
      "30\t222\t01111011\tb'\\xde'\n",
      "31\t223\t11111011\tb'\\xdf'\n",
      "32\t224\t00000111\tb'\\xe0'\n",
      "33\t225\t10000111\tb'\\xe1'\n",
      "34\t226\t01000111\tb'\\xe2'\n",
      "35\t227\t11000111\tb'\\xe3'\n",
      "36\t228\t00100111\tb'\\xe4'\n",
      "37\t229\t10100111\tb'\\xe5'\n",
      "38\t230\t01100111\tb'\\xe6'\n",
      "39\t231\t11100111\tb'\\xe7'\n",
      "40\t232\t00010111\tb'\\xe8'\n",
      "41\t233\t10010111\tb'\\xe9'\n",
      "42\t234\t01010111\tb'\\xea'\n",
      "43\t235\t11010111\tb'\\xeb'\n",
      "44\t236\t00110111\tb'\\xec'\n",
      "45\t237\t10110111\tb'\\xed'\n",
      "46\t238\t01110111\tb'\\xee'\n",
      "47\t239\t11110111\tb'\\xef'\n",
      "48\t240\t00001111\tb'\\xf0'\n",
      "49\t241\t10001111\tb'\\xf1'\n",
      "50\t242\t01001111\tb'\\xf2'\n",
      "51\t243\t11001111\tb'\\xf3'\n",
      "52\t244\t00101111\tb'\\xf4'\n",
      "53\t245\t10101111\tb'\\xf5'\n",
      "54\t246\t01101111\tb'\\xf6'\n",
      "55\t247\t11101111\tb'\\xf7'\n",
      "56\t248\t00011111\tb'\\xf8'\n",
      "57\t249\t10011111\tb'\\xf9'\n",
      "58\t250\t01011111\tb'\\xfa'\n",
      "59\t251\t11011111\tb'\\xfb'\n",
      "60\t252\t00111111\tb'\\xfc'\n",
      "61\t253\t10111111\tb'\\xfd'\n",
      "62\t254\t01111111\tb'\\xfe'\n",
      "63\t255\t11111111\tb'\\xff'\n"
     ]
    }
   ],
   "source": [
    "direction = 1\n",
    "for speed in range(64):\n",
    "    binary_speed = '{0:06b}'.format(speed)\n",
    "    binary_speed =  str(direction) + str(1) + binary_speed\n",
    "    number = int(binary_speed, 2)\n",
    "    bytestring = number.to_bytes(1, 'little')\n",
    "    print(f'{speed}\\t{number}\\t{binary_speed[::-1]}\\t{bytestring}')\n"
   ]
  },
  {
   "cell_type": "code",
   "execution_count": null,
   "metadata": {},
   "outputs": [],
   "source": [
    "direction = 0\n",
    "for speed in range(64):\n",
    "    binary_speed = '{0:06b}'.format(speed)\n",
    "    binary_speed =  str(direction) + str(1) + binary_speed\n",
    "    number = int(binary_speed, 2)\n",
    "    bytestring = number.to_bytes(1, 'big')\n",
    "    print(f'{speed}\\t{number}\\t{binary_speed[::-1]}\\t{bytestring}')"
   ]
  },
  {
   "cell_type": "code",
   "execution_count": null,
   "metadata": {},
   "outputs": [],
   "source": [
    "dev.close()"
   ]
  },
  {
   "cell_type": "code",
   "execution_count": null,
   "metadata": {},
   "outputs": [],
   "source": [
    "dev.query(\"mot1\")"
   ]
  },
  {
   "cell_type": "code",
   "execution_count": null,
   "metadata": {},
   "outputs": [],
   "source": [
    "dev.write_raw(bytestring)"
   ]
  },
  {
   "cell_type": "code",
   "execution_count": 353,
   "metadata": {},
   "outputs": [
    {
     "ename": "VisaIOError",
     "evalue": "VI_ERROR_TMO (-1073807339): Timeout expired before operation completed.",
     "output_type": "error",
     "traceback": [
      "\u001b[0;31m---------------------------------------------------------------------------\u001b[0m",
      "\u001b[0;31mVisaIOError\u001b[0m                               Traceback (most recent call last)",
      "\u001b[0;32m<ipython-input-353-6ae1114c26b7>\u001b[0m in \u001b[0;36m<module>\u001b[0;34m\u001b[0m\n\u001b[0;32m----> 1\u001b[0;31m \u001b[0mdev\u001b[0m\u001b[0;34m.\u001b[0m\u001b[0mread\u001b[0m\u001b[0;34m(\u001b[0m\u001b[0;34m)\u001b[0m\u001b[0;34m\u001b[0m\u001b[0;34m\u001b[0m\u001b[0m\n\u001b[0m",
      "\u001b[0;32m~/.virtualenvs/pynta/lib/python3.6/site-packages/pyvisa/resources/messagebased.py\u001b[0m in \u001b[0;36mread\u001b[0;34m(self, termination, encoding)\u001b[0m\n\u001b[1;32m    425\u001b[0m         \u001b[0;32mif\u001b[0m \u001b[0mtermination\u001b[0m \u001b[0;32mis\u001b[0m \u001b[0;32mNone\u001b[0m\u001b[0;34m:\u001b[0m\u001b[0;34m\u001b[0m\u001b[0;34m\u001b[0m\u001b[0m\n\u001b[1;32m    426\u001b[0m             \u001b[0mtermination\u001b[0m \u001b[0;34m=\u001b[0m \u001b[0mself\u001b[0m\u001b[0;34m.\u001b[0m\u001b[0m_read_termination\u001b[0m\u001b[0;34m\u001b[0m\u001b[0;34m\u001b[0m\u001b[0m\n\u001b[0;32m--> 427\u001b[0;31m             \u001b[0mmessage\u001b[0m \u001b[0;34m=\u001b[0m \u001b[0mself\u001b[0m\u001b[0;34m.\u001b[0m\u001b[0m_read_raw\u001b[0m\u001b[0;34m(\u001b[0m\u001b[0;34m)\u001b[0m\u001b[0;34m.\u001b[0m\u001b[0mdecode\u001b[0m\u001b[0;34m(\u001b[0m\u001b[0menco\u001b[0m\u001b[0;34m)\u001b[0m\u001b[0;34m\u001b[0m\u001b[0;34m\u001b[0m\u001b[0m\n\u001b[0m\u001b[1;32m    428\u001b[0m         \u001b[0;32melse\u001b[0m\u001b[0;34m:\u001b[0m\u001b[0;34m\u001b[0m\u001b[0;34m\u001b[0m\u001b[0m\n\u001b[1;32m    429\u001b[0m             \u001b[0;32mwith\u001b[0m \u001b[0mself\u001b[0m\u001b[0;34m.\u001b[0m\u001b[0mread_termination_context\u001b[0m\u001b[0;34m(\u001b[0m\u001b[0mtermination\u001b[0m\u001b[0;34m)\u001b[0m\u001b[0;34m:\u001b[0m\u001b[0;34m\u001b[0m\u001b[0;34m\u001b[0m\u001b[0m\n",
      "\u001b[0;32m~/.virtualenvs/pynta/lib/python3.6/site-packages/pyvisa/resources/messagebased.py\u001b[0m in \u001b[0;36m_read_raw\u001b[0;34m(self, size)\u001b[0m\n\u001b[1;32m    398\u001b[0m                     logger.debug('%s - reading %d bytes (last status %r)',\n\u001b[1;32m    399\u001b[0m                                  self._resource_name, size, status)\n\u001b[0;32m--> 400\u001b[0;31m                     \u001b[0mchunk\u001b[0m\u001b[0;34m,\u001b[0m \u001b[0mstatus\u001b[0m \u001b[0;34m=\u001b[0m \u001b[0mself\u001b[0m\u001b[0;34m.\u001b[0m\u001b[0mvisalib\u001b[0m\u001b[0;34m.\u001b[0m\u001b[0mread\u001b[0m\u001b[0;34m(\u001b[0m\u001b[0mself\u001b[0m\u001b[0;34m.\u001b[0m\u001b[0msession\u001b[0m\u001b[0;34m,\u001b[0m \u001b[0msize\u001b[0m\u001b[0;34m)\u001b[0m\u001b[0;34m\u001b[0m\u001b[0;34m\u001b[0m\u001b[0m\n\u001b[0m\u001b[1;32m    401\u001b[0m                     \u001b[0mret\u001b[0m\u001b[0;34m.\u001b[0m\u001b[0mextend\u001b[0m\u001b[0;34m(\u001b[0m\u001b[0mchunk\u001b[0m\u001b[0;34m)\u001b[0m\u001b[0;34m\u001b[0m\u001b[0;34m\u001b[0m\u001b[0m\n\u001b[1;32m    402\u001b[0m             \u001b[0;32mexcept\u001b[0m \u001b[0merrors\u001b[0m\u001b[0;34m.\u001b[0m\u001b[0mVisaIOError\u001b[0m \u001b[0;32mas\u001b[0m \u001b[0me\u001b[0m\u001b[0;34m:\u001b[0m\u001b[0;34m\u001b[0m\u001b[0;34m\u001b[0m\u001b[0m\n",
      "\u001b[0;32m~/.virtualenvs/pynta/lib/python3.6/site-packages/pyvisa-py/highlevel.py\u001b[0m in \u001b[0;36mread\u001b[0;34m(self, session, count)\u001b[0m\n\u001b[1;32m    348\u001b[0m \u001b[0;34m\u001b[0m\u001b[0m\n\u001b[1;32m    349\u001b[0m         \u001b[0;32mif\u001b[0m \u001b[0mret\u001b[0m\u001b[0;34m[\u001b[0m\u001b[0;36m1\u001b[0m\u001b[0;34m]\u001b[0m \u001b[0;34m<\u001b[0m \u001b[0;36m0\u001b[0m\u001b[0;34m:\u001b[0m\u001b[0;34m\u001b[0m\u001b[0;34m\u001b[0m\u001b[0m\n\u001b[0;32m--> 350\u001b[0;31m             \u001b[0;32mraise\u001b[0m \u001b[0merrors\u001b[0m\u001b[0;34m.\u001b[0m\u001b[0mVisaIOError\u001b[0m\u001b[0;34m(\u001b[0m\u001b[0mret\u001b[0m\u001b[0;34m[\u001b[0m\u001b[0;36m1\u001b[0m\u001b[0;34m]\u001b[0m\u001b[0;34m)\u001b[0m\u001b[0;34m\u001b[0m\u001b[0;34m\u001b[0m\u001b[0m\n\u001b[0m\u001b[1;32m    351\u001b[0m \u001b[0;34m\u001b[0m\u001b[0m\n\u001b[1;32m    352\u001b[0m         \u001b[0;32mreturn\u001b[0m \u001b[0mret\u001b[0m\u001b[0;34m\u001b[0m\u001b[0;34m\u001b[0m\u001b[0m\n",
      "\u001b[0;31mVisaIOError\u001b[0m: VI_ERROR_TMO (-1073807339): Timeout expired before operation completed."
     ]
    }
   ],
   "source": [
    "dev.read()"
   ]
  },
  {
   "cell_type": "code",
   "execution_count": 354,
   "metadata": {},
   "outputs": [
    {
     "data": {
      "text/plain": [
       "(1, <StatusCode.success: 0>)"
      ]
     },
     "execution_count": 354,
     "metadata": {},
     "output_type": "execute_result"
    }
   ],
   "source": [
    "dev.write_raw(bytestring)"
   ]
  },
  {
   "cell_type": "code",
   "execution_count": 192,
   "metadata": {},
   "outputs": [
    {
     "data": {
      "text/plain": [
       "'OK\\r\\n'"
      ]
     },
     "execution_count": 192,
     "metadata": {},
     "output_type": "execute_result"
    }
   ],
   "source": [
    "dev.read()"
   ]
  },
  {
   "cell_type": "code",
   "execution_count": null,
   "metadata": {},
   "outputs": [],
   "source": []
  }
 ],
 "metadata": {
  "kernelspec": {
   "display_name": "Python 3",
   "language": "python",
   "name": "python3"
  },
  "language_info": {
   "codemirror_mode": {
    "name": "ipython",
    "version": 3
   },
   "file_extension": ".py",
   "mimetype": "text/x-python",
   "name": "python",
   "nbconvert_exporter": "python",
   "pygments_lexer": "ipython3",
   "version": "3.6.6"
  }
 },
 "nbformat": 4,
 "nbformat_minor": 2
}
