{
 "cells": [
  {
   "cell_type": "code",
   "execution_count": 3,
   "metadata": {},
   "outputs": [],
   "source": [
    "import pyvisa\n",
    "rm = pyvisa.ResourceManager('@py')"
   ]
  },
  {
   "cell_type": "code",
   "execution_count": 7,
   "metadata": {},
   "outputs": [],
   "source": [
    "dev = rm.open_resource('ASRL/dev/ttyACM1', baud_rate=19200)\n",
    "#dev.encoding = 'utf-8'"
   ]
  },
  {
   "cell_type": "code",
   "execution_count": 5,
   "metadata": {},
   "outputs": [
    {
     "name": "stdout",
     "output_type": "stream",
     "text": [
      "Waiting for input\r\n",
      "\n"
     ]
    },
    {
     "ename": "TypeError",
     "evalue": "write_binary_values() missing 1 required positional argument: 'message'",
     "output_type": "error",
     "traceback": [
      "\u001b[0;31m---------------------------------------------------------------------------\u001b[0m",
      "\u001b[0;31mTypeError\u001b[0m                                 Traceback (most recent call last)",
      "\u001b[0;32m<ipython-input-5-66ec45110532>\u001b[0m in \u001b[0;36m<module>\u001b[0;34m\u001b[0m\n\u001b[1;32m      6\u001b[0m \u001b[0mbytestring\u001b[0m \u001b[0;34m=\u001b[0m \u001b[0mnumber\u001b[0m\u001b[0;34m.\u001b[0m\u001b[0mto_bytes\u001b[0m\u001b[0;34m(\u001b[0m\u001b[0;36m1\u001b[0m\u001b[0;34m,\u001b[0m \u001b[0;34m'big'\u001b[0m\u001b[0;34m)\u001b[0m\u001b[0;34m\u001b[0m\u001b[0;34m\u001b[0m\u001b[0m\n\u001b[1;32m      7\u001b[0m \u001b[0mprint\u001b[0m\u001b[0;34m(\u001b[0m\u001b[0mdev\u001b[0m\u001b[0;34m.\u001b[0m\u001b[0mquery\u001b[0m\u001b[0;34m(\u001b[0m\u001b[0;34m'mot'\u001b[0m\u001b[0;34m)\u001b[0m\u001b[0;34m)\u001b[0m\u001b[0;34m\u001b[0m\u001b[0;34m\u001b[0m\u001b[0m\n\u001b[0;32m----> 8\u001b[0;31m \u001b[0mprint\u001b[0m\u001b[0;34m(\u001b[0m\u001b[0mdev\u001b[0m\u001b[0;34m.\u001b[0m\u001b[0mwrite_binary_values\u001b[0m\u001b[0;34m(\u001b[0m\u001b[0mvalues\u001b[0m\u001b[0;34m=\u001b[0m\u001b[0mbytestring\u001b[0m\u001b[0;34m)\u001b[0m\u001b[0;34m)\u001b[0m\u001b[0;34m\u001b[0m\u001b[0;34m\u001b[0m\u001b[0m\n\u001b[0m\u001b[1;32m      9\u001b[0m \u001b[0mprint\u001b[0m\u001b[0;34m(\u001b[0m\u001b[0mbinary_speed\u001b[0m\u001b[0;34m)\u001b[0m\u001b[0;34m\u001b[0m\u001b[0;34m\u001b[0m\u001b[0m\n\u001b[1;32m     10\u001b[0m \u001b[0mprint\u001b[0m\u001b[0;34m(\u001b[0m\u001b[0mnumber\u001b[0m\u001b[0;34m)\u001b[0m\u001b[0;34m\u001b[0m\u001b[0;34m\u001b[0m\u001b[0m\n",
      "\u001b[0;31mTypeError\u001b[0m: write_binary_values() missing 1 required positional argument: 'message'"
     ]
    }
   ],
   "source": [
    "speed = 1\n",
    "direction = 0\n",
    "binary_speed = '{0:06b}'.format(speed)\n",
    "binary_speed =  str(direction) + str(1) + binary_speed\n",
    "number = int(binary_speed, 2)\n",
    "bytestring = number.to_bytes(1, 'big')\n",
    "print(dev.query('mot'))\n",
    "print(dev.write_binary_values(values=bytestring))\n",
    "print(binary_speed)\n",
    "print(number)\n",
    "print(bytestring)\n",
    "print(bytes([number]))"
   ]
  },
  {
   "cell_type": "code",
   "execution_count": 6,
   "metadata": {},
   "outputs": [],
   "source": [
    "dev.close()"
   ]
  },
  {
   "cell_type": "code",
   "execution_count": 96,
   "metadata": {},
   "outputs": [
    {
     "name": "stdout",
     "output_type": "stream",
     "text": [
      "OK\r\n",
      "\n",
      "11111100\n",
      "252\n",
      "b'\\xfc'\n",
      "b'\\xfc'\n"
     ]
    }
   ],
   "source": [
    "speed = 60\n",
    "direction = 1\n",
    "binary_speed = '{0:06b}'.format(speed)\n",
    "binary_speed =  str(direction) + str(1) + binary_speed\n",
    "number = int(binary_speed, 2)\n",
    "bytestring = number.to_bytes(1, 'big')\n",
    "print(dev.query('mot'))\n",
    "dev.write_raw(bytestring)\n",
    "print(binary_speed)\n",
    "print(number)\n",
    "print(bytestring)\n",
    "print(bytes([number]))"
   ]
  },
  {
   "cell_type": "code",
   "execution_count": 8,
   "metadata": {},
   "outputs": [
    {
     "name": "stdout",
     "output_type": "stream",
     "text": [
      "0\t192\t00000011\tb'\\xc0'\n",
      "1\t193\t10000011\tb'\\xc1'\n",
      "2\t194\t01000011\tb'\\xc2'\n",
      "3\t195\t11000011\tb'\\xc3'\n",
      "4\t196\t00100011\tb'\\xc4'\n",
      "5\t197\t10100011\tb'\\xc5'\n",
      "6\t198\t01100011\tb'\\xc6'\n",
      "7\t199\t11100011\tb'\\xc7'\n",
      "8\t200\t00010011\tb'\\xc8'\n",
      "9\t201\t10010011\tb'\\xc9'\n",
      "10\t202\t01010011\tb'\\xca'\n",
      "11\t203\t11010011\tb'\\xcb'\n",
      "12\t204\t00110011\tb'\\xcc'\n",
      "13\t205\t10110011\tb'\\xcd'\n",
      "14\t206\t01110011\tb'\\xce'\n",
      "15\t207\t11110011\tb'\\xcf'\n",
      "16\t208\t00001011\tb'\\xd0'\n",
      "17\t209\t10001011\tb'\\xd1'\n",
      "18\t210\t01001011\tb'\\xd2'\n",
      "19\t211\t11001011\tb'\\xd3'\n",
      "20\t212\t00101011\tb'\\xd4'\n",
      "21\t213\t10101011\tb'\\xd5'\n",
      "22\t214\t01101011\tb'\\xd6'\n",
      "23\t215\t11101011\tb'\\xd7'\n",
      "24\t216\t00011011\tb'\\xd8'\n",
      "25\t217\t10011011\tb'\\xd9'\n",
      "26\t218\t01011011\tb'\\xda'\n",
      "27\t219\t11011011\tb'\\xdb'\n",
      "28\t220\t00111011\tb'\\xdc'\n",
      "29\t221\t10111011\tb'\\xdd'\n",
      "30\t222\t01111011\tb'\\xde'\n",
      "31\t223\t11111011\tb'\\xdf'\n",
      "32\t224\t00000111\tb'\\xe0'\n",
      "33\t225\t10000111\tb'\\xe1'\n",
      "34\t226\t01000111\tb'\\xe2'\n",
      "35\t227\t11000111\tb'\\xe3'\n",
      "36\t228\t00100111\tb'\\xe4'\n",
      "37\t229\t10100111\tb'\\xe5'\n",
      "38\t230\t01100111\tb'\\xe6'\n",
      "39\t231\t11100111\tb'\\xe7'\n",
      "40\t232\t00010111\tb'\\xe8'\n",
      "41\t233\t10010111\tb'\\xe9'\n",
      "42\t234\t01010111\tb'\\xea'\n",
      "43\t235\t11010111\tb'\\xeb'\n",
      "44\t236\t00110111\tb'\\xec'\n",
      "45\t237\t10110111\tb'\\xed'\n",
      "46\t238\t01110111\tb'\\xee'\n",
      "47\t239\t11110111\tb'\\xef'\n",
      "48\t240\t00001111\tb'\\xf0'\n",
      "49\t241\t10001111\tb'\\xf1'\n",
      "50\t242\t01001111\tb'\\xf2'\n",
      "51\t243\t11001111\tb'\\xf3'\n",
      "52\t244\t00101111\tb'\\xf4'\n",
      "53\t245\t10101111\tb'\\xf5'\n",
      "54\t246\t01101111\tb'\\xf6'\n",
      "55\t247\t11101111\tb'\\xf7'\n",
      "56\t248\t00011111\tb'\\xf8'\n",
      "57\t249\t10011111\tb'\\xf9'\n",
      "58\t250\t01011111\tb'\\xfa'\n",
      "59\t251\t11011111\tb'\\xfb'\n",
      "60\t252\t00111111\tb'\\xfc'\n",
      "61\t253\t10111111\tb'\\xfd'\n",
      "62\t254\t01111111\tb'\\xfe'\n",
      "63\t255\t11111111\tb'\\xff'\n"
     ]
    }
   ],
   "source": [
    "direction = 1\n",
    "for speed in range(64):\n",
    "    binary_speed = '{0:06b}'.format(speed)\n",
    "    binary_speed =  str(direction) + str(1) + binary_speed\n",
    "    number = int(binary_speed, 2)\n",
    "    bytestring = number.to_bytes(1, 'little')\n",
    "    print(f'{speed}\\t{number}\\t{binary_speed[::-1]}\\t{bytestring}')\n"
   ]
  },
  {
   "cell_type": "code",
   "execution_count": 9,
   "metadata": {},
   "outputs": [
    {
     "name": "stdout",
     "output_type": "stream",
     "text": [
      "0\t64\t00000010\tb'@'\n",
      "1\t65\t10000010\tb'A'\n",
      "2\t66\t01000010\tb'B'\n",
      "3\t67\t11000010\tb'C'\n",
      "4\t68\t00100010\tb'D'\n",
      "5\t69\t10100010\tb'E'\n",
      "6\t70\t01100010\tb'F'\n",
      "7\t71\t11100010\tb'G'\n",
      "8\t72\t00010010\tb'H'\n",
      "9\t73\t10010010\tb'I'\n",
      "10\t74\t01010010\tb'J'\n",
      "11\t75\t11010010\tb'K'\n",
      "12\t76\t00110010\tb'L'\n",
      "13\t77\t10110010\tb'M'\n",
      "14\t78\t01110010\tb'N'\n",
      "15\t79\t11110010\tb'O'\n",
      "16\t80\t00001010\tb'P'\n",
      "17\t81\t10001010\tb'Q'\n",
      "18\t82\t01001010\tb'R'\n",
      "19\t83\t11001010\tb'S'\n",
      "20\t84\t00101010\tb'T'\n",
      "21\t85\t10101010\tb'U'\n",
      "22\t86\t01101010\tb'V'\n",
      "23\t87\t11101010\tb'W'\n",
      "24\t88\t00011010\tb'X'\n",
      "25\t89\t10011010\tb'Y'\n",
      "26\t90\t01011010\tb'Z'\n",
      "27\t91\t11011010\tb'['\n",
      "28\t92\t00111010\tb'\\\\'\n",
      "29\t93\t10111010\tb']'\n",
      "30\t94\t01111010\tb'^'\n",
      "31\t95\t11111010\tb'_'\n",
      "32\t96\t00000110\tb'`'\n",
      "33\t97\t10000110\tb'a'\n",
      "34\t98\t01000110\tb'b'\n",
      "35\t99\t11000110\tb'c'\n",
      "36\t100\t00100110\tb'd'\n",
      "37\t101\t10100110\tb'e'\n",
      "38\t102\t01100110\tb'f'\n",
      "39\t103\t11100110\tb'g'\n",
      "40\t104\t00010110\tb'h'\n",
      "41\t105\t10010110\tb'i'\n",
      "42\t106\t01010110\tb'j'\n",
      "43\t107\t11010110\tb'k'\n",
      "44\t108\t00110110\tb'l'\n",
      "45\t109\t10110110\tb'm'\n",
      "46\t110\t01110110\tb'n'\n",
      "47\t111\t11110110\tb'o'\n",
      "48\t112\t00001110\tb'p'\n",
      "49\t113\t10001110\tb'q'\n",
      "50\t114\t01001110\tb'r'\n",
      "51\t115\t11001110\tb's'\n",
      "52\t116\t00101110\tb't'\n",
      "53\t117\t10101110\tb'u'\n",
      "54\t118\t01101110\tb'v'\n",
      "55\t119\t11101110\tb'w'\n",
      "56\t120\t00011110\tb'x'\n",
      "57\t121\t10011110\tb'y'\n",
      "58\t122\t01011110\tb'z'\n",
      "59\t123\t11011110\tb'{'\n",
      "60\t124\t00111110\tb'|'\n",
      "61\t125\t10111110\tb'}'\n",
      "62\t126\t01111110\tb'~'\n",
      "63\t127\t11111110\tb'\\x7f'\n"
     ]
    }
   ],
   "source": [
    "direction = 0\n",
    "for speed in range(64):\n",
    "    binary_speed = '{0:06b}'.format(speed)\n",
    "    binary_speed =  str(direction) + str(1) + binary_speed\n",
    "    number = int(binary_speed, 2)\n",
    "    bytestring = number.to_bytes(1, 'big')\n",
    "    print(f'{speed}\\t{number}\\t{binary_speed[::-1]}\\t{bytestring}')"
   ]
  },
  {
   "cell_type": "code",
   "execution_count": null,
   "metadata": {},
   "outputs": [],
   "source": [
    "dev.close()"
   ]
  },
  {
   "cell_type": "code",
   "execution_count": null,
   "metadata": {},
   "outputs": [],
   "source": []
  }
 ],
 "metadata": {
  "kernelspec": {
   "display_name": "Python 3",
   "language": "python",
   "name": "python3"
  },
  "language_info": {
   "codemirror_mode": {
    "name": "ipython",
    "version": 3
   },
   "file_extension": ".py",
   "mimetype": "text/x-python",
   "name": "python",
   "nbconvert_exporter": "python",
   "pygments_lexer": "ipython3",
   "version": "3.6.6"
  }
 },
 "nbformat": 4,
 "nbformat_minor": 2
}
